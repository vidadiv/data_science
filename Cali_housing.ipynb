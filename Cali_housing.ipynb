{
 "cells": [
  {
   "cell_type": "code",
   "execution_count": null,
   "id": "ca1b3d1b",
   "metadata": {},
   "outputs": [],
   "source": [
    "import os\n",
    "import tarfile\n",
    "from six.moves import urllib\n",
    "import pandas as pd\n",
    "import matplotlib.pyplot as plt\n",
    "from pandas.plotting import scatter_matrix"
   ]
  },
  {
   "cell_type": "code",
   "execution_count": null,
   "id": "c794cee7",
   "metadata": {},
   "outputs": [],
   "source": [
    "DOWNLOAD_ROOT = \"https://raw.githubusercontent.com/ageron/handson-ml2/master/\"\n",
    "HOUSING_PATH = os.path.join(\"datasets\",\"housing\")\n",
    "HOUSING_URL = DOWNLOAD_ROOT + \"datasets/housing/housing.tgz\"\n",
    "##Funcion para bajar los datos de un repositorio git\n",
    "def fetch_housing_data(housing_url=HOUSING_URL, housing_path=HOUSING_PATH):\n",
    "    if not os.path.isdir(housing_path):\n",
    "        os.makedirs(housing_path)\n",
    "    tgz_path = os.path.join(housing_path,\"housing.tgz\")\n",
    "    urllib.request.urlretrieve(housing_url, tgz_path)\n",
    "    housing_tgz = tarfile.open(tgz_path)\n",
    "    housing_tgz.extractall(path=housing_path)\n",
    "    housing_tgz.close()"
   ]
  },
  {
   "cell_type": "code",
   "execution_count": null,
   "id": "583bfb4b",
   "metadata": {},
   "outputs": [],
   "source": [
    "#función para cargar los datos con pandas\n",
    "def load_housing_data(housing_path=HOUSING_PATH):\n",
    "    csv_path = os.path.join(housing_path,'housing.csv')\n",
    "    return pd.read_csv(csv_path)"
   ]
  },
  {
   "cell_type": "code",
   "execution_count": null,
   "id": "e898a882",
   "metadata": {},
   "outputs": [],
   "source": [
    "#Se bajan los datos\n",
    "fetch_housing_data()"
   ]
  },
  {
   "cell_type": "code",
   "execution_count": null,
   "id": "88df3d86",
   "metadata": {},
   "outputs": [],
   "source": [
    "#Se cargan los datos\n",
    "housing = load_housing_data()\n",
    "housing.info() #para ver el númbre de cada columna y el tipo de datos que contiene cada columna"
   ]
  },
  {
   "cell_type": "code",
   "execution_count": null,
   "id": "b769dfe2",
   "metadata": {},
   "outputs": [],
   "source": [
    "housing"
   ]
  },
  {
   "cell_type": "code",
   "execution_count": null,
   "id": "dc16c48b",
   "metadata": {},
   "outputs": [],
   "source": [
    "housing[\"ocean_proximity\"].value_counts() #cuenta cuantas veces aparece un mismo valor"
   ]
  },
  {
   "cell_type": "code",
   "execution_count": null,
   "id": "f5e80c9f",
   "metadata": {},
   "outputs": [],
   "source": [
    "housing.describe()"
   ]
  },
  {
   "cell_type": "code",
   "execution_count": null,
   "id": "a560ebab",
   "metadata": {
    "scrolled": true
   },
   "outputs": [],
   "source": [
    "housing.hist(bins=50, figsize=(20,15)) #para previsualizar histogramas de los datos numéricos\n",
    "plt.show()"
   ]
  },
  {
   "cell_type": "code",
   "execution_count": null,
   "id": "5aaa8105",
   "metadata": {},
   "outputs": [],
   "source": [
    "#IMPORTAR NUMPY\n",
    "import numpy as np"
   ]
  },
  {
   "cell_type": "code",
   "execution_count": null,
   "id": "3e531ad9",
   "metadata": {},
   "outputs": [],
   "source": [
    "#función para que los datos se dividan \n",
    "#en muestras de entrenamiento y de prueba\n",
    "def split_train_test(data, test_ratio):\n",
    "    shuffled_indices = np.random.permutation(len(data))\n",
    "    test_set_size = int(len(data)*test_ratio)\n",
    "    test_indices = shuffled_indices[:test_set_size]\n",
    "    train_indices = shuffled_indices[test_set_size:]\n",
    "    return data.iloc[train_indices], data.iloc[test_indices]"
   ]
  },
  {
   "cell_type": "code",
   "execution_count": null,
   "id": "8911935b",
   "metadata": {},
   "outputs": [],
   "source": [
    "train_set, test_set = split_train_test(housing, 0.2)\n",
    "len(train_set)\n",
    "len(test_set)"
   ]
  },
  {
   "cell_type": "code",
   "execution_count": null,
   "id": "81622e63",
   "metadata": {},
   "outputs": [],
   "source": [
    "#IMPORTAR crc32\n",
    "#checksum for crc32 (Cyclic Redundancy Check) to a particular data\n",
    "from zlib import crc32"
   ]
  },
  {
   "cell_type": "code",
   "execution_count": null,
   "id": "07ba4fec",
   "metadata": {},
   "outputs": [],
   "source": [
    "#funciones para evitar que datos que estaban en el batch de entrenamiento vayan al batch de prueba\n",
    "def test_set_check(identifier, test_ratio):\n",
    "    return crc32(np.int64(identifier)) & 0xffffffff < test_ratio * 2**32\n",
    "def split_train_test_by_id(data, test_ratio, id_column):\n",
    "    ids = data[id_column]\n",
    "    in_test_set = ids.apply(lambda id_: test_set_check(id_, test_ratio))\n",
    "    return data.loc[~in_test_set], data.loc[in_test_set]"
   ]
  },
  {
   "cell_type": "code",
   "execution_count": null,
   "id": "8435ba40",
   "metadata": {},
   "outputs": [],
   "source": [
    "#Si el data set no tiene columna de ID se puede crear una\n",
    "#En este caso hay que tener cuidado que nunca se borre una fila y los datos nuevos se añadan al final\n",
    "housing_with_id = housing.reset_index()\n",
    "train_set, test_set = split_train_test_by_id(housing_with_id, 0.2, \"index\")"
   ]
  },
  {
   "cell_type": "code",
   "execution_count": null,
   "id": "d27df47f",
   "metadata": {},
   "outputs": [],
   "source": [
    "#En este caso de housing se crea un identificador único que son las coordenadas de cada casa\n",
    "housing_with_id[\"id\"] = housing[\"longitude\"] * 1000 + housing[\"latitude\"]\n",
    "train_set, test_set = split_train_test_by_id(housing_with_id, 0.2, \"index\")"
   ]
  },
  {
   "cell_type": "code",
   "execution_count": null,
   "id": "64225a0a",
   "metadata": {},
   "outputs": [],
   "source": [
    "#La separación de datos se puede hacer con Scikit-Learn\n",
    "#IMPORTAR sklearn\n",
    "from sklearn.model_selection import train_test_split, StratifiedShuffleSplit"
   ]
  },
  {
   "cell_type": "code",
   "execution_count": null,
   "id": "acd7e60d",
   "metadata": {},
   "outputs": [],
   "source": [
    "train_set, test_set = train_test_split(housing, test_size = 0.2, random_state=42)\n",
    "#al introducir la semilla 42 (o cualquier otro número) los datos se reordenan siembre de la misma manera"
   ]
  },
  {
   "cell_type": "code",
   "execution_count": null,
   "id": "10e62fa5",
   "metadata": {},
   "outputs": [],
   "source": [
    "#Supongamos que la categoría \"median_income\" es importante\n",
    "#Entonces visualizamos como es que se distribuye esta categoría,\n",
    "#distribuimos los valores en una nueva columna con la función \"cut\" de pandas\n",
    "#y vemos como se distribuyen \n",
    "#About pandas.cut Use cut when you need to segment and sort data values into bins. \n",
    "#This function is also useful for going from a continuous variable to a categorical variable\n",
    "housing[\"income_cat\"] = pd.cut(housing[\"median_income\"],\n",
    "                              bins = [0., 1.5, 3.0, 4.5, 6., np.inf],\n",
    "                              labels = [1, 2, 3, 4, 5])"
   ]
  },
  {
   "cell_type": "code",
   "execution_count": null,
   "id": "f5acedca",
   "metadata": {},
   "outputs": [],
   "source": [
    "housing[\"income_cat\"].hist()"
   ]
  },
  {
   "cell_type": "code",
   "execution_count": null,
   "id": "31d122a3",
   "metadata": {},
   "outputs": [],
   "source": [
    "#Entonces para hacer un sampling pero tomando en cuenta que se tenga una muestra \n",
    "#representativa de cada categoría, se utiliza StratifiedShuffleSplit de sklearn\n",
    "split = StratifiedShuffleSplit(n_splits=1, test_size=0.2, random_state=42)\n",
    "for train_index, test_index in split.split(housing, housing[\"income_cat\"]):\n",
    "    strat_train_set = housing.loc[train_index]\n",
    "    strat_test_set = housing.loc[test_index] #loc access a group of rows and columns by label(s) or a boolean array."
   ]
  },
  {
   "cell_type": "code",
   "execution_count": null,
   "id": "87e2111e",
   "metadata": {},
   "outputs": [],
   "source": [
    "#Las proporciones en el set de prueba pareciera tener la misma estratificación en\n",
    "#la categoría income\n",
    "strat_test_set[\"income_cat\"].value_counts()/len(strat_test_set)"
   ]
  },
  {
   "cell_type": "code",
   "execution_count": null,
   "id": "3b5f10cf",
   "metadata": {},
   "outputs": [],
   "source": [
    "strat_train_set[\"income_cat\"].value_counts()/len(strat_train_set)"
   ]
  },
  {
   "cell_type": "code",
   "execution_count": null,
   "id": "53d20b89",
   "metadata": {},
   "outputs": [],
   "source": [
    "#ya que se hizo la estratificación, se quita la categoría \"income_cat\"\n",
    "for set_ in (strat_train_set, strat_test_set):\n",
    "    set_.drop(\"income_cat\", axis=1, inplace=True)"
   ]
  },
  {
   "cell_type": "code",
   "execution_count": null,
   "id": "c19f2e5f",
   "metadata": {},
   "outputs": [],
   "source": [
    "#vamos a hacer una copia solo del set de entrenamiento para ya no modificar el set de prueba\n",
    "housing = strat_train_set.copy()"
   ]
  },
  {
   "cell_type": "code",
   "execution_count": null,
   "id": "21b573d0",
   "metadata": {},
   "outputs": [],
   "source": [
    "#Visualización de los datos en busqueda de insights\n",
    "housing.plot(kind=\"scatter\", x=\"longitude\", y=\"latitude\", alpha=0.1) #alpha es la intensidad del color en cada punto"
   ]
  },
  {
   "cell_type": "code",
   "execution_count": null,
   "id": "69f28ea4",
   "metadata": {},
   "outputs": [],
   "source": [
    "#Opción \"s\" es tamaño variable de los cículos según \"population\"\n",
    "#Opción \"c\" es el color según el valor medio de las casas, \"jet\" indica que azul son bajos precios y rojos altos\n",
    "housing.plot(kind=\"scatter\", x=\"longitude\", y=\"latitude\", alpha=0.4,\n",
    "        s=housing[\"population\"]/100, label=\"population\", figsize=(10,7),\n",
    "        c=\"median_house_value\", cmap=plt.get_cmap(\"jet\"), colorbar=True)\n",
    "plt.legend()"
   ]
  },
  {
   "cell_type": "code",
   "execution_count": null,
   "id": "1c152f93",
   "metadata": {},
   "outputs": [],
   "source": [
    "#correlaciones entre valores\n",
    "corr_matrix = housing.corr()"
   ]
  },
  {
   "cell_type": "code",
   "execution_count": null,
   "id": "fe3c70a6",
   "metadata": {},
   "outputs": [],
   "source": [
    "#al final queremos ver que datos se correlacionan con \"median_house_value\"\n",
    "corr_matrix[\"median_house_value\"].sort_values(ascending=False)"
   ]
  },
  {
   "cell_type": "code",
   "execution_count": null,
   "id": "ed99a203",
   "metadata": {},
   "outputs": [],
   "source": [
    "#correlaciones de algunos de los datos más prometedores con \"median_house_value\"\n",
    "#IMPORTAR scatter_matrix de pandas.plotting\n",
    "from pandas.plotting import scatter_matrix"
   ]
  },
  {
   "cell_type": "code",
   "execution_count": null,
   "id": "ab49ec47",
   "metadata": {},
   "outputs": [],
   "source": [
    "attributes = [\"median_house_value\", \"median_income\", \"total_rooms\",\n",
    "             \"housing_median_age\"]\n",
    "scatter_matrix(housing[attributes], figsize=(12,8))"
   ]
  },
  {
   "cell_type": "code",
   "execution_count": null,
   "id": "cdfbbad3",
   "metadata": {},
   "outputs": [],
   "source": [
    "#Median income pareciera tener una mayor correlación\n",
    "housing.plot(kind='scatter', x='median_income', y='median_house_value',\n",
    "             alpha=0.1)"
   ]
  },
  {
   "cell_type": "code",
   "execution_count": null,
   "id": "5bef0f68",
   "metadata": {},
   "outputs": [],
   "source": [
    "#Se pueden hacer combinaciones de datos para crear nuevos que podría dar nueva información\n",
    "housing['rooms_per_household'] = housing['total_rooms']/housing['households']\n",
    "housing['bedrooms_per_room'] = housing['total_bedrooms']/housing['total_rooms']\n",
    "housing['population_per_household'] = housing['population']/housing['households']"
   ]
  },
  {
   "cell_type": "code",
   "execution_count": null,
   "id": "98941ffc",
   "metadata": {},
   "outputs": [],
   "source": [
    "corr_matrix = housing.corr()\n",
    "corr_matrix['median_house_value'].sort_values(ascending=False)"
   ]
  },
  {
   "cell_type": "code",
   "execution_count": null,
   "id": "185bbab3",
   "metadata": {},
   "outputs": [],
   "source": [
    "#rooms per household pareciera tener una correlación no despreciable"
   ]
  },
  {
   "cell_type": "code",
   "execution_count": null,
   "id": "b21992f3",
   "metadata": {},
   "outputs": [],
   "source": [
    "#Se separan los predictores y las etiquetas para no aplicar las mismas trasnformaciones\n",
    "#a los predictores y a los valores objetivos\n",
    "housing = strat_train_set.drop('median_house_value', axis=1)\n",
    "housing_labels = strat_train_set['median_house_value'].copy()"
   ]
  },
  {
   "cell_type": "code",
   "execution_count": null,
   "id": "59068a13",
   "metadata": {},
   "outputs": [],
   "source": [
    "#Cuando hacen falta datos se pueden quitar las filas donde hay N/A\n",
    "#housing.dropna(subset=[\"total_bedrooms\"])\n",
    "#quitar toda la columna\n",
    "#housing.drop(\"total_bedrooms\", axis=1)\n",
    "#o calcular el valor medio y entonces sustituir los N/A por ese valor\n",
    "#median = housing[\"total_bedrooms\"].median()\n",
    "#housing[\"total_bedrooms\"].fillna(median, inplace=True)"
   ]
  },
  {
   "cell_type": "code",
   "execution_count": null,
   "id": "22e153c4",
   "metadata": {},
   "outputs": [],
   "source": [
    "#Lo anterior se puede hacer con Sckit-Learn\n",
    "#IMPORTAR SimpleImputer\n",
    "from sklearn.impute import SimpleImputer"
   ]
  },
  {
   "cell_type": "code",
   "execution_count": null,
   "id": "2c2042b3",
   "metadata": {},
   "outputs": [],
   "source": [
    "imputer = SimpleImputer(strategy=\"median\")\n",
    "housing_num = housing.drop('ocean_proximity', axis=1) #ocean proximity no se puede usar porque no tiene valores numericos\n",
    "imputer.fit(housing_num)"
   ]
  },
  {
   "cell_type": "code",
   "execution_count": null,
   "id": "fdc8d514",
   "metadata": {},
   "outputs": [],
   "source": [
    "imputer.statistics_"
   ]
  },
  {
   "cell_type": "code",
   "execution_count": null,
   "id": "d9d11962",
   "metadata": {},
   "outputs": [],
   "source": [
    "housing_num.median().values"
   ]
  },
  {
   "cell_type": "code",
   "execution_count": null,
   "id": "6cdf8708",
   "metadata": {},
   "outputs": [],
   "source": [
    "#Se puede usar este imputer entrenado para remplazar los valores faltantes en el set de entrenamiento\n",
    "X = imputer.transform(housing_num)\n",
    "housing_tr = pd.DataFrame(X, columns=housing_num.columns)"
   ]
  },
  {
   "cell_type": "code",
   "execution_count": null,
   "id": "a86b42c7",
   "metadata": {},
   "outputs": [],
   "source": [
    "#La categoría \"ocean_proximity\" tiene texto en vez de número\n",
    "housing_cat = housing[[\"ocean_proximity\"]]\n",
    "housing_cat.head(10)"
   ]
  },
  {
   "cell_type": "code",
   "execution_count": null,
   "id": "ca00925e",
   "metadata": {},
   "outputs": [],
   "source": [
    "#para cambiarlos a números utilizamos de nuevo Scikit-Learn\n",
    "#IMPORTACION\n",
    "from sklearn.preprocessing import OrdinalEncoder"
   ]
  },
  {
   "cell_type": "code",
   "execution_count": null,
   "id": "2096b944",
   "metadata": {},
   "outputs": [],
   "source": [
    "ordinal_encoder = OrdinalEncoder()\n",
    "housing_cat_encoded = ordinal_encoder.fit_transform(housing_cat)\n",
    "housing_cat_encoded[:10] #son 10 categorias, se muestra el último array"
   ]
  },
  {
   "cell_type": "code",
   "execution_count": null,
   "id": "3dae81ef",
   "metadata": {},
   "outputs": [],
   "source": [
    "#Para ver una lista de que representa cada categoría se accede como:\n",
    "ordinal_encoder.categories_"
   ]
  },
  {
   "cell_type": "code",
   "execution_count": null,
   "id": "003bc549",
   "metadata": {},
   "outputs": [],
   "source": [
    "#Para evitar que el algoritmo de ML asuma que hay una relación entre los números\n",
    "#que representan cáda categoría, se puede utilizar una codificación one-hot\n",
    "#IMPORTACION\n",
    "from sklearn.preprocessing import OneHotEncoder"
   ]
  },
  {
   "cell_type": "code",
   "execution_count": null,
   "id": "f45c373b",
   "metadata": {},
   "outputs": [],
   "source": [
    "cat_encoder = OneHotEncoder()\n",
    "housing_cat_1hot = cat_encoder.fit_transform(housing_cat)\n",
    "housing_cat_1hot #los datos se comprimen para no ocupar espacio de memoria solo con ceros"
   ]
  },
  {
   "cell_type": "code",
   "execution_count": null,
   "id": "8cf063c9",
   "metadata": {},
   "outputs": [],
   "source": [
    "#para utilizar matrices con los ceros en NumPy, se hace\n",
    "housing_cat_1hot.toarray()"
   ]
  },
  {
   "cell_type": "code",
   "execution_count": null,
   "id": "7ccc774a",
   "metadata": {},
   "outputs": [],
   "source": [
    "#las categorias de nuevo se pueden ver con:\n",
    "cat_encoder.categories_"
   ]
  },
  {
   "cell_type": "code",
   "execution_count": null,
   "id": "d9298e57",
   "metadata": {},
   "outputs": [],
   "source": [
    "#Función para hacer transformaciones: este tipo de funciones pueden ahorrar tener que\n",
    "#estarlas escribiendo las transformaciones una y otra vez\n",
    "#IMPORTACION\n",
    "from sklearn.base import BaseEstimator, TransformerMixin"
   ]
  },
  {
   "cell_type": "code",
   "execution_count": null,
   "id": "28e4f877",
   "metadata": {},
   "outputs": [],
   "source": [
    "rooms_ix, bedrooms_ix, population_ix, households_ix = 3, 4, 5, 6\n",
    "class CombinedAttributesAdder(BaseEstimator, TransformerMixin):\n",
    "    def __init__(self, add_bedrooms_per_room = True): #no *args or **kargs\n",
    "        self.add_bedrooms_per_room = add_bedrooms_per_room\n",
    "    def fit(self, X, y=None):\n",
    "        return self  #nothing else to do\n",
    "    def transform(self, X, y=None):\n",
    "        rooms_per_household = X[:, rooms_ix] / X[:, households_ix]\n",
    "        population_per_household = X[:, population_ix] / X[:, households_ix]\n",
    "        if self.add_bedrooms_per_room:\n",
    "            bedrooms_per_room = X[:, bedrooms_ix] / X[:, rooms_ix]\n",
    "            return np.c_[X, rooms_per_household, population_per_household, bedrooms_per_room]\n",
    "        else:\n",
    "            return np.c_[X, rooms_per_household, population_per_household]\n",
    "        \n",
    "attr_adder = CombinedAttributesAdder(add_bedrooms_per_room=False)\n",
    "housing_extra_attribs = attr_adder.transform(housing.values)"
   ]
  },
  {
   "cell_type": "code",
   "execution_count": null,
   "id": "35f713ca",
   "metadata": {},
   "outputs": [],
   "source": [
    "#Para transformaciones que se tiene que hacer en orden se puede utilizar\n",
    "#la clase Pipeline de Scikit-Learn para manejarlas\n",
    "#IMPORTACION\n",
    "from sklearn.pipeline import Pipeline\n",
    "from sklearn.preprocessing import StandardScaler"
   ]
  },
  {
   "cell_type": "code",
   "execution_count": null,
   "id": "d6945216",
   "metadata": {},
   "outputs": [],
   "source": [
    "num_pipeline = Pipeline([\n",
    "    ('imputer', SimpleImputer(strategy=\"median\")),\n",
    "    ('attribs_adder', CombinedAttributesAdder()),\n",
    "    ('std_scaler', StandardScaler())\n",
    "])\n",
    "\n",
    "housing_num_tr = num_pipeline.fit_transform(housing_num) #fit_transform is a method from TransformerMixin"
   ]
  },
  {
   "cell_type": "code",
   "execution_count": null,
   "id": "7d4174d3",
   "metadata": {},
   "outputs": [],
   "source": [
    "#Es posible hacer transformaciones para columnas numéricas y categóricas\n",
    "#de un sólo jalón, en vez de hacerlas por separado\n",
    "#IMPORTACION\n",
    "from sklearn.compose import ColumnTransformer"
   ]
  },
  {
   "cell_type": "code",
   "execution_count": null,
   "id": "82425130",
   "metadata": {},
   "outputs": [],
   "source": [
    "num_attribs = list(housing_num)\n",
    "cat_attribs = ['ocean_proximity']\n",
    "\n",
    "full_pipeline = ColumnTransformer([\n",
    "        ('num', num_pipeline, num_attribs),\n",
    "        ('cat', OneHotEncoder(), cat_attribs)\n",
    "    ])\n",
    "\n",
    "housing_prepared = full_pipeline.fit_transform(housing)"
   ]
  },
  {
   "cell_type": "code",
   "execution_count": null,
   "id": "6cf01785",
   "metadata": {},
   "outputs": [],
   "source": [
    "housing_prepared"
   ]
  },
  {
   "cell_type": "markdown",
   "id": "3efcd4ba",
   "metadata": {},
   "source": [
    "TRAINING AND EVALUATING ON THE TRAINING SET "
   ]
  },
  {
   "cell_type": "code",
   "execution_count": null,
   "id": "a19c58db",
   "metadata": {},
   "outputs": [],
   "source": [
    "#IMPORTACION\n",
    "#sklearn será utilizado para construir una regresión linear\n",
    "from sklearn.linear_model import LinearRegression"
   ]
  },
  {
   "cell_type": "code",
   "execution_count": null,
   "id": "8dcc6ecf",
   "metadata": {},
   "outputs": [],
   "source": [
    "#Se hace el fit a una regresión lineal\n",
    "lin_reg = LinearRegression()\n",
    "lin_reg.fit(housing_prepared, housing_labels)"
   ]
  },
  {
   "cell_type": "code",
   "execution_count": null,
   "id": "7a61be5e",
   "metadata": {},
   "outputs": [],
   "source": [
    "#Veamos como funciona tomando algunos datos\n",
    "some_data = housing.iloc[:5]\n",
    "some_labels = housing_labels.iloc[:5]\n",
    "some_data_prepared = full_pipeline.transform(some_data)\n",
    "print(\"Predictions:\", lin_reg.predict(some_data_prepared))"
   ]
  },
  {
   "cell_type": "code",
   "execution_count": null,
   "id": "168466f9",
   "metadata": {},
   "outputs": [],
   "source": [
    "print(\"Labels:\", list(some_labels))"
   ]
  },
  {
   "cell_type": "code",
   "execution_count": null,
   "id": "2903febf",
   "metadata": {},
   "outputs": [],
   "source": [
    "#Veamos cual es el error en esta regresión con sklear\n",
    "#IMPORTACION\n",
    "from sklearn.metrics import mean_squared_error"
   ]
  },
  {
   "cell_type": "code",
   "execution_count": null,
   "id": "81fb2830",
   "metadata": {},
   "outputs": [],
   "source": [
    "housing_predictions = lin_reg.predict(housing_prepared)\n",
    "lin_mse = mean_squared_error(housing_labels, housing_predictions)\n",
    "lin_rmse = np.sqrt(lin_mse)\n",
    "lin_rmse"
   ]
  },
  {
   "cell_type": "code",
   "execution_count": null,
   "id": "c724b52b",
   "metadata": {},
   "outputs": [],
   "source": [
    "#Esto indica que el error medio a la hora de predecir el costo de una casa es de $68628\n",
    "#El siguiente paso es probar un modelo más complejo que se ajuste a los datos"
   ]
  },
  {
   "cell_type": "code",
   "execution_count": null,
   "id": "b21faf63",
   "metadata": {},
   "outputs": [],
   "source": [
    "#Probemos con un Decision Tree Regressor\n",
    "#IMPORTACION\n",
    "from sklearn.tree import DecisionTreeRegressor"
   ]
  },
  {
   "cell_type": "code",
   "execution_count": null,
   "id": "fdf7676e",
   "metadata": {},
   "outputs": [],
   "source": [
    "tree_reg = DecisionTreeRegressor()\n",
    "tree_reg.fit(housing_prepared, housing_labels)"
   ]
  },
  {
   "cell_type": "code",
   "execution_count": null,
   "id": "fde77465",
   "metadata": {},
   "outputs": [],
   "source": [
    "housing_predictions = tree_reg.predict(housing_prepared)\n",
    "tree_mse = mean_squared_error(housing_labels, housing_predictions)\n",
    "tree_rmse = np.sqrt(tree_mse)\n",
    "tree_mse"
   ]
  },
  {
   "cell_type": "code",
   "execution_count": null,
   "id": "75bc2e4a",
   "metadata": {},
   "outputs": [],
   "source": []
  }
 ],
 "metadata": {
  "kernelspec": {
   "display_name": "Python 3",
   "language": "python",
   "name": "python3"
  },
  "language_info": {
   "codemirror_mode": {
    "name": "ipython",
    "version": 3
   },
   "file_extension": ".py",
   "mimetype": "text/x-python",
   "name": "python",
   "nbconvert_exporter": "python",
   "pygments_lexer": "ipython3",
   "version": "3.6.12"
  }
 },
 "nbformat": 4,
 "nbformat_minor": 5
}
