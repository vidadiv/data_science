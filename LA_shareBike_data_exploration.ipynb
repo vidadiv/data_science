{
 "cells": [
  {
   "cell_type": "code",
   "execution_count": 1,
   "id": "2ae93ade",
   "metadata": {},
   "outputs": [],
   "source": [
    "import pandas as pd\n",
    "import numpy as np\n",
    "import matplotlib.pyplot as plt"
   ]
  },
  {
   "cell_type": "markdown",
   "id": "157aa484",
   "metadata": {},
   "source": [
    "Leemos los datos"
   ]
  },
  {
   "cell_type": "code",
   "execution_count": 2,
   "id": "dc7e1ec8",
   "metadata": {},
   "outputs": [
    {
     "name": "stderr",
     "output_type": "stream",
     "text": [
      "/Users/adiv/opt/anaconda3/envs/dsfs/lib/python3.6/site-packages/IPython/core/interactiveshell.py:3072: DtypeWarning: Columns (8) have mixed types.Specify dtype option on import or set low_memory=False.\n",
      "  interactivity=interactivity, compiler=compiler, result=result)\n"
     ]
    }
   ],
   "source": [
    "ride_data = pd.read_csv('train_set.csv')"
   ]
  },
  {
   "cell_type": "code",
   "execution_count": 3,
   "id": "a7648604",
   "metadata": {
    "scrolled": true
   },
   "outputs": [
    {
     "name": "stdout",
     "output_type": "stream",
     "text": [
      "<class 'pandas.core.frame.DataFrame'>\n",
      "RangeIndex: 700000 entries, 0 to 699999\n",
      "Data columns (total 14 columns):\n",
      " #   Column               Non-Null Count   Dtype  \n",
      "---  ------               --------------   -----  \n",
      " 0   trip_id              700000 non-null  int64  \n",
      " 1   duration             700000 non-null  int64  \n",
      " 2   start_time           700000 non-null  object \n",
      " 3   end_time             700000 non-null  object \n",
      " 4   start_lat            694437 non-null  float64\n",
      " 5   start_lon            694437 non-null  float64\n",
      " 6   end_lat              681426 non-null  float64\n",
      " 7   end_lon              681426 non-null  float64\n",
      " 8   bike_id              700000 non-null  object \n",
      " 9   plan_duration        699792 non-null  float64\n",
      " 10  trip_route_category  700000 non-null  object \n",
      " 11  passholder_type      697424 non-null  object \n",
      " 12  start_station        700000 non-null  int64  \n",
      " 13  end_station          700000 non-null  int64  \n",
      "dtypes: float64(5), int64(4), object(5)\n",
      "memory usage: 74.8+ MB\n"
     ]
    }
   ],
   "source": [
    "ride_data.info()"
   ]
  },
  {
   "cell_type": "markdown",
   "id": "c45e148d",
   "metadata": {},
   "source": [
    "¿Cuantos tipos de passholder hay?"
   ]
  },
  {
   "cell_type": "code",
   "execution_count": 4,
   "id": "62b5ad1d",
   "metadata": {
    "scrolled": true
   },
   "outputs": [
    {
     "data": {
      "text/plain": [
       "Monthly Pass    394769\n",
       "Walk-up         212426\n",
       "One Day Pass     44455\n",
       "Annual Pass      34092\n",
       "Flex Pass        11604\n",
       "Testing             78\n",
       "Name: passholder_type, dtype: int64"
      ]
     },
     "execution_count": 4,
     "metadata": {},
     "output_type": "execute_result"
    }
   ],
   "source": [
    "ride_data['passholder_type'].value_counts()"
   ]
  },
  {
   "cell_type": "markdown",
   "id": "cf757403",
   "metadata": {},
   "source": [
    "Exploremos los datos de las estaciones "
   ]
  },
  {
   "cell_type": "code",
   "execution_count": 5,
   "id": "4d950942",
   "metadata": {
    "scrolled": true
   },
   "outputs": [
    {
     "data": {
      "image/png": "[encoded data removed]",
      "text/plain": [
       "<Figure size 432x288 with 1 Axes>"
      ]
     },
     "metadata": {
      "needs_background": "light"
     },
     "output_type": "display_data"
    }
   ],
   "source": [
    "#Datos de ubicación de estaciones\n",
    "plt.scatter(ride_data['start_lon'], ride_data['start_lat'], color='red', alpha=0.1)\n",
    "plt.scatter(ride_data['end_lon'], ride_data['end_lat'], color='blue', alpha=0.1)\n",
    "plt.grid(True)\n",
    "plt.show()"
   ]
  },
  {
   "cell_type": "markdown",
   "id": "e9b2cd33",
   "metadata": {},
   "source": [
    "Dado que el servicio de bicicletas es en Los Ángeles, los puntos en otras latitudes y longitudes probablemente sean errores en los datos. Veámos como se ven los puntos si nos acercamos a la posición de Los Ángeles 34.0522° N, 118.2437° W"
   ]
  },
  {
   "cell_type": "code",
   "execution_count": 6,
   "id": "b1452237",
   "metadata": {},
   "outputs": [
    {
     "data": {
      "image/png": "[encoded data removed]",
      "text/plain": [
       "<Figure size 432x288 with 1 Axes>"
      ]
     },
     "metadata": {
      "needs_background": "light"
     },
     "output_type": "display_data"
    }
   ],
   "source": [
    "plt.scatter(ride_data['start_lon'], ride_data['start_lat'], color='red', alpha=0.01)\n",
    "plt.scatter(ride_data['end_lon'], ride_data['end_lat'], color='blue', alpha=0.01)\n",
    "plt.xlim(-118.55, -118.1)\n",
    "plt.ylim(33.7,34.20)\n",
    "plt.grid(True)\n",
    "plt.show()"
   ]
  },
  {
   "cell_type": "markdown",
   "id": "8310ebc1",
   "metadata": {},
   "source": [
    "Con esto podemos descartar los datos que estén fuera de esta area"
   ]
  },
  {
   "cell_type": "code",
   "execution_count": 7,
   "id": "f4b02ce1",
   "metadata": {},
   "outputs": [],
   "source": [
    "#Quitemos todas las filas de todas las columnas que contengan coordenadas incorrectas\n",
    "ride_data.drop(ride_data[ride_data['start_lon'] > -100].index, inplace = True)\n",
    "ride_data.drop(ride_data[ride_data['end_lon'] > -100].index, inplace = True)\n",
    "ride_data.drop(ride_data[ride_data['start_lat'] > 35].index, inplace = True)\n",
    "ride_data.drop(ride_data[ride_data['end_lat'] > 35].index, inplace = True)"
   ]
  },
  {
   "cell_type": "code",
   "execution_count": 8,
   "id": "56bbe55c",
   "metadata": {
    "scrolled": true
   },
   "outputs": [
    {
     "data": {
      "image/png": "[encoded data removed]",
      "text/plain": [
       "<Figure size 432x288 with 1 Axes>"
      ]
     },
     "metadata": {
      "needs_background": "light"
     },
     "output_type": "display_data"
    }
   ],
   "source": [
    "plt.scatter(ride_data['start_lon'], ride_data['start_lat'], color='red', alpha=0.01)\n",
    "plt.scatter(ride_data['end_lon'], ride_data['end_lat'], color='blue', alpha=0.01)\n",
    "plt.grid(True)\n",
    "plt.show()"
   ]
  },
  {
   "cell_type": "markdown",
   "id": "501e2fbd",
   "metadata": {},
   "source": [
    "Veamos estos datos sobre un mapa de Los Angeles"
   ]
  },
  {
   "cell_type": "code",
   "execution_count": 9,
   "id": "57fadf06",
   "metadata": {},
   "outputs": [],
   "source": [
    "import folium\n",
    "import json\n",
    "from folium import plugins"
   ]
  },
  {
   "cell_type": "markdown",
   "id": "1058c58e",
   "metadata": {},
   "source": [
    "El archivo laMap.geojson fue obtenido en\n",
    "https://github.com/ritvikmath/StarbucksStoreScraping/blob/master/laMap.geojson"
   ]
  },
  {
   "cell_type": "code",
   "execution_count": 10,
   "id": "d97beed2",
   "metadata": {},
   "outputs": [],
   "source": [
    "with open('laMap.geojson') as f:\n",
    "    laArea = json.load(f)"
   ]
  },
  {
   "cell_type": "code",
   "execution_count": 11,
   "id": "dc93546c",
   "metadata": {},
   "outputs": [],
   "source": [
    "loc_data=ride_data[['start_lat','start_lon','end_lat','end_lon']] \n",
    "#se remueven los datos NaN\n",
    "loc_data = loc_data.dropna(subset = ['start_lat','start_lon','end_lat','end_lon'])"
   ]
  },
  {
   "cell_type": "markdown",
   "id": "f6feb4bb",
   "metadata": {},
   "source": [
    "Ya que solo quiero visualizar la ubicación geográfica de las estaciones, no necesito todo el dataset, entonces tomo una muestra."
   ]
  },
  {
   "cell_type": "code",
   "execution_count": 12,
   "id": "d9bafeb5",
   "metadata": {},
   "outputs": [],
   "source": [
    "loc_data = loc_data.head(50000) #aquí tal vez lo mejor era hacer un \"unique\" y luego \"sort\""
   ]
  },
  {
   "cell_type": "code",
   "execution_count": 13,
   "id": "253542a6",
   "metadata": {
    "scrolled": true
   },
   "outputs": [],
   "source": [
    "laMap = folium.Map(location=[34.0522,-118.2437], tiles='Stamen Toner', zoom_start=9)\n",
    "folium.GeoJson(laArea).add_to(laMap)\n",
    "\n",
    "for i,row in loc_data.iterrows():\n",
    "    folium.CircleMarker((row.start_lat,row.start_lon), radius=3, weight=2, color='red', fill_color='red', fill_opacity=.5).add_to(laMap)\n",
    "\n",
    "laMap.save('laPointMap.html')"
   ]
  },
  {
   "cell_type": "markdown",
   "id": "92258b67",
   "metadata": {},
   "source": [
    "El mapa obtenido se salva a un mapa interactivo de donde se pueden obtener imágenes (ver reporte en pdf)"
   ]
  },
  {
   "cell_type": "markdown",
   "id": "d521d564",
   "metadata": {},
   "source": [
    "Veámos cuales son las estaciones más utilizadas"
   ]
  },
  {
   "cell_type": "code",
   "execution_count": 14,
   "id": "025fd0c2",
   "metadata": {},
   "outputs": [],
   "source": [
    "most_used = ride_data.groupby(['start_lat', 'start_lon'])['start_lon'].count().reset_index(\n",
    "  name='Count').sort_values(['Count'], ascending=False)"
   ]
  },
  {
   "cell_type": "code",
   "execution_count": 15,
   "id": "f5cdbbf8",
   "metadata": {},
   "outputs": [],
   "source": [
    "most_used = most_used.head(10)"
   ]
  },
  {
   "cell_type": "code",
   "execution_count": 16,
   "id": "10e86407",
   "metadata": {},
   "outputs": [
    {
     "data": {
      "text/html": [
       "<div>\n",
       "<style scoped>\n",
       "    .dataframe tbody tr th:only-of-type {\n",
       "        vertical-align: middle;\n",
       "    }\n",
       "\n",
       "    .dataframe tbody tr th {\n",
       "        vertical-align: top;\n",
       "    }\n",
       "\n",
       "    .dataframe thead th {\n",
       "        text-align: right;\n",
       "    }\n",
       "</style>\n",
       "<table border=\"1\" class=\"dataframe\">\n",
       "  <thead>\n",
       "    <tr style=\"text-align: right;\">\n",
       "      <th></th>\n",
       "      <th>start_lat</th>\n",
       "      <th>start_lon</th>\n",
       "      <th>Count</th>\n",
       "    </tr>\n",
       "  </thead>\n",
       "  <tbody>\n",
       "    <tr>\n",
       "      <th>243</th>\n",
       "      <td>34.048500</td>\n",
       "      <td>-118.258537</td>\n",
       "      <td>26393</td>\n",
       "    </tr>\n",
       "    <tr>\n",
       "      <th>269</th>\n",
       "      <td>34.051941</td>\n",
       "      <td>-118.243530</td>\n",
       "      <td>20280</td>\n",
       "    </tr>\n",
       "    <tr>\n",
       "      <th>67</th>\n",
       "      <td>33.995560</td>\n",
       "      <td>-118.481552</td>\n",
       "      <td>18540</td>\n",
       "    </tr>\n",
       "    <tr>\n",
       "      <th>284</th>\n",
       "      <td>34.056610</td>\n",
       "      <td>-118.237213</td>\n",
       "      <td>17783</td>\n",
       "    </tr>\n",
       "    <tr>\n",
       "      <th>37</th>\n",
       "      <td>33.984341</td>\n",
       "      <td>-118.471550</td>\n",
       "      <td>17179</td>\n",
       "    </tr>\n",
       "    <tr>\n",
       "      <th>211</th>\n",
       "      <td>34.044701</td>\n",
       "      <td>-118.252441</td>\n",
       "      <td>16175</td>\n",
       "    </tr>\n",
       "    <tr>\n",
       "      <th>241</th>\n",
       "      <td>34.048401</td>\n",
       "      <td>-118.260948</td>\n",
       "      <td>14647</td>\n",
       "    </tr>\n",
       "    <tr>\n",
       "      <th>95</th>\n",
       "      <td>34.014309</td>\n",
       "      <td>-118.491341</td>\n",
       "      <td>12812</td>\n",
       "    </tr>\n",
       "    <tr>\n",
       "      <th>226</th>\n",
       "      <td>34.046520</td>\n",
       "      <td>-118.237411</td>\n",
       "      <td>12720</td>\n",
       "    </tr>\n",
       "    <tr>\n",
       "      <th>219</th>\n",
       "      <td>34.045540</td>\n",
       "      <td>-118.256668</td>\n",
       "      <td>12009</td>\n",
       "    </tr>\n",
       "  </tbody>\n",
       "</table>\n",
       "</div>"
      ],
      "text/plain": [
       "     start_lat   start_lon  Count\n",
       "243  34.048500 -118.258537  26393\n",
       "269  34.051941 -118.243530  20280\n",
       "67   33.995560 -118.481552  18540\n",
       "284  34.056610 -118.237213  17783\n",
       "37   33.984341 -118.471550  17179\n",
       "211  34.044701 -118.252441  16175\n",
       "241  34.048401 -118.260948  14647\n",
       "95   34.014309 -118.491341  12812\n",
       "226  34.046520 -118.237411  12720\n",
       "219  34.045540 -118.256668  12009"
      ]
     },
     "execution_count": 16,
     "metadata": {},
     "output_type": "execute_result"
    }
   ],
   "source": [
    "most_used"
   ]
  },
  {
   "cell_type": "markdown",
   "id": "f98eed7c",
   "metadata": {},
   "source": [
    "Pasemos estos datos al mapa y veamos que sale (imagen en el archivo PDF)"
   ]
  },
  {
   "cell_type": "code",
   "execution_count": 17,
   "id": "38e021c9",
   "metadata": {},
   "outputs": [],
   "source": [
    "laMap = folium.Map(location=[34.0522,-118.2437], tiles='Stamen Toner', zoom_start=9)\n",
    "folium.GeoJson(laArea).add_to(laMap)\n",
    "\n",
    "for i,row in most_used.iterrows():\n",
    "    folium.CircleMarker((row.start_lat,row.start_lon), radius=5, weight=2, color='red', fill_color='red', fill_opacity=1).add_to(laMap)\n",
    "\n",
    "laMap.save('laPointMap_mostUsed.html')"
   ]
  },
  {
   "cell_type": "markdown",
   "id": "af23a79a",
   "metadata": {},
   "source": [
    "Para explorar el comportamiento de los datos a lo largo del tiempo, hay que cambiar las entradas en las columnas de \"start_time\" y \"end_time\" a objetos datetime"
   ]
  },
  {
   "cell_type": "code",
   "execution_count": 18,
   "id": "c239ab14",
   "metadata": {},
   "outputs": [],
   "source": [
    "from datetime import datetime\n",
    "import dateutil.parser"
   ]
  },
  {
   "cell_type": "code",
   "execution_count": 19,
   "id": "5ba75c69",
   "metadata": {},
   "outputs": [],
   "source": [
    "ride_data['start_time'] = ride_data['start_time'].apply(dateutil.parser.parse)\n",
    "ride_data['end_time'] = ride_data['end_time'].apply(dateutil.parser.parse)"
   ]
  },
  {
   "cell_type": "code",
   "execution_count": 20,
   "id": "3c2e48ec",
   "metadata": {},
   "outputs": [],
   "source": [
    "import matplotlib.dates as mdates"
   ]
  },
  {
   "cell_type": "code",
   "execution_count": 21,
   "id": "56eee220",
   "metadata": {
    "scrolled": true
   },
   "outputs": [
    {
     "data": {
      "image/png": "[encoded data removed]",
      "text/plain": [
       "<Figure size 1584x432 with 1 Axes>"
      ]
     },
     "metadata": {
      "needs_background": "light"
     },
     "output_type": "display_data"
    }
   ],
   "source": [
    "plt_date = mdates.date2num(ride_data['start_time'])\n",
    "fig, ax = plt.subplots(1, figsize=(22,6))\n",
    "n, bins, patches = plt.hist(plt_date, bins=100)\n",
    "ax.xaxis.set_major_locator(mdates.YearLocator())\n",
    "ax.xaxis.set_major_formatter(mdates.DateFormatter('%y'))\n",
    "plt.xlim(mdates.datestr2num(['2016/09/01','2022/03/01']))\n",
    "plt.show()"
   ]
  },
  {
   "cell_type": "markdown",
   "id": "d8e062a0",
   "metadata": {},
   "source": [
    "Del plot anteriores se puede ver que:\n",
    "- Hay un efecto estacional, es decir, hay una subida en la demanda del servicio hacia la segunda mitad del año (verano e inicio de otoño) y una caida hacia el invierno.\n",
    "- En el año 2020 hubo una caida súbita en el servicio que coincide con las restricciones debido a la pandemia de covid\n",
    "- Para el 2021 pareciera haber una recuperación estacional en el verano con una caida hacia el inverno.\n",
    "- El hueco en la segunda mitad del 2021 probablemente se debe a una interrupción en la adquisión de datos."
   ]
  },
  {
   "cell_type": "markdown",
   "id": "d336ee0c",
   "metadata": {},
   "source": [
    "Veamos como se distribuyen a lo largo del tiempo el \"start_time\" a lo largo del tiempo para cada categoría del \"passholder_type\""
   ]
  },
  {
   "cell_type": "code",
   "execution_count": 22,
   "id": "f1c5105d",
   "metadata": {},
   "outputs": [
    {
     "data": {
      "text/plain": [
       "Monthly Pass    394750\n",
       "Walk-up         212322\n",
       "One Day Pass     44412\n",
       "Annual Pass      34059\n",
       "Flex Pass        11604\n",
       "Testing             78\n",
       "Name: passholder_type, dtype: int64"
      ]
     },
     "execution_count": 22,
     "metadata": {},
     "output_type": "execute_result"
    }
   ],
   "source": [
    "ride_data['passholder_type'].value_counts()"
   ]
  },
  {
   "cell_type": "code",
   "execution_count": 23,
   "id": "6f81efe4",
   "metadata": {},
   "outputs": [],
   "source": [
    "ride_data_Monthly = ride_data.loc[ride_data['passholder_type'] == 'Monthly Pass']"
   ]
  },
  {
   "cell_type": "code",
   "execution_count": 24,
   "id": "f0874b11",
   "metadata": {
    "scrolled": true
   },
   "outputs": [
    {
     "data": {
      "image/png": "[encoded data removed]",
      "text/plain": [
       "<Figure size 1584x432 with 1 Axes>"
      ]
     },
     "metadata": {
      "needs_background": "light"
     },
     "output_type": "display_data"
    }
   ],
   "source": [
    "plt_date = mdates.date2num(ride_data_Monthly['start_time'])\n",
    "fig, ax = plt.subplots(1, figsize=(22,6))\n",
    "n, bins, patches = plt.hist(plt_date, bins=100)\n",
    "ax.xaxis.set_major_locator(mdates.YearLocator())\n",
    "ax.xaxis.set_major_formatter(mdates.DateFormatter('%y'))\n",
    "plt.xlim(mdates.datestr2num(['2016/09/01','2022/03/01']))\n",
    "plt.show()"
   ]
  },
  {
   "cell_type": "code",
   "execution_count": 25,
   "id": "0f8f5a72",
   "metadata": {},
   "outputs": [
    {
     "data": {
      "image/png": "[encoded data removed]",
      "text/plain": [
       "<Figure size 1584x432 with 1 Axes>"
      ]
     },
     "metadata": {
      "needs_background": "light"
     },
     "output_type": "display_data"
    }
   ],
   "source": [
    "ride_data_Walk = ride_data.loc[ride_data['passholder_type'] == 'Walk-up']\n",
    "plt_date = mdates.date2num(ride_data_Walk['start_time'])\n",
    "fig, ax = plt.subplots(1, figsize=(22,6))\n",
    "n, bins, patches = plt.hist(plt_date, bins=100)\n",
    "ax.xaxis.set_major_locator(mdates.YearLocator())\n",
    "ax.xaxis.set_major_formatter(mdates.DateFormatter('%y'))\n",
    "plt.xlim(mdates.datestr2num(['2016/09/01','2022/03/01']))\n",
    "plt.show()"
   ]
  },
  {
   "cell_type": "code",
   "execution_count": 26,
   "id": "f7b75003",
   "metadata": {
    "scrolled": true
   },
   "outputs": [
    {
     "data": {
      "image/png": "[encoded data removed]",
      "text/plain": [
       "<Figure size 1584x432 with 1 Axes>"
      ]
     },
     "metadata": {
      "needs_background": "light"
     },
     "output_type": "display_data"
    }
   ],
   "source": [
    "ride_data_One_Day = ride_data.loc[ride_data['passholder_type'] == 'One Day Pass']\n",
    "plt_date = mdates.date2num(ride_data_One_Day['start_time'])\n",
    "fig, ax = plt.subplots(1, figsize=(22,6))\n",
    "n, bins, patches = plt.hist(plt_date, bins=100)\n",
    "ax.xaxis.set_major_locator(mdates.YearLocator())\n",
    "ax.xaxis.set_major_formatter(mdates.DateFormatter('%y'))\n",
    "plt.xlim(mdates.datestr2num(['2016/09/01','2022/03/01']))\n",
    "plt.show()"
   ]
  },
  {
   "cell_type": "markdown",
   "id": "d083650d",
   "metadata": {},
   "source": [
    "Aquí pareciera que hubo un corte en los datos del \"One Day Pass\" o tal opción no existía y tuvo una súbida demanda."
   ]
  },
  {
   "cell_type": "code",
   "execution_count": 27,
   "id": "e8489edc",
   "metadata": {
    "scrolled": false
   },
   "outputs": [
    {
     "data": {
      "image/png": "[encoded data removed]",
      "text/plain": [
       "<Figure size 1584x432 with 1 Axes>"
      ]
     },
     "metadata": {
      "needs_background": "light"
     },
     "output_type": "display_data"
    }
   ],
   "source": [
    "ride_data_Annual = ride_data.loc[ride_data['passholder_type'] == 'Annual Pass']\n",
    "plt_date = mdates.date2num(ride_data_Annual['start_time'])\n",
    "fig, ax = plt.subplots(1, figsize=(22,6))\n",
    "n, bins, patches = plt.hist(plt_date, bins=100)\n",
    "ax.xaxis.set_major_locator(mdates.YearLocator())\n",
    "ax.xaxis.set_major_formatter(mdates.DateFormatter('%y'))\n",
    "plt.xlim(mdates.datestr2num(['2016/09/01','2022/03/01']))\n",
    "plt.show()"
   ]
  },
  {
   "cell_type": "markdown",
   "id": "d3d20e39",
   "metadata": {},
   "source": [
    "A diferencia de los datos de \"One Day Pass\" aquí más bien pareciera que la opción \"Annual Pass\" no existía y cuando se lanzó su demanda empezó a crecer paulatinamente. La súbita caida se puede atribuir con toda seguridad a la pandemia. "
   ]
  },
  {
   "cell_type": "code",
   "execution_count": 28,
   "id": "c0584b96",
   "metadata": {
    "scrolled": true
   },
   "outputs": [
    {
     "data": {
      "image/png": "[encoded data removed]",
      "text/plain": [
       "<Figure size 1584x432 with 1 Axes>"
      ]
     },
     "metadata": {
      "needs_background": "light"
     },
     "output_type": "display_data"
    }
   ],
   "source": [
    "ride_data_Flex = ride_data.loc[ride_data['passholder_type'] == 'Flex Pass']\n",
    "plt_date = mdates.date2num(ride_data_Flex['start_time'])\n",
    "fig, ax = plt.subplots(1, figsize=(22,6))\n",
    "n, bins, patches = plt.hist(plt_date, bins=100)\n",
    "ax.xaxis.set_major_locator(mdates.YearLocator())\n",
    "ax.xaxis.set_major_formatter(mdates.DateFormatter('%y'))\n",
    "plt.xlim(mdates.datestr2num(['2016/09/01','2022/03/01']))\n",
    "plt.show()"
   ]
  },
  {
   "cell_type": "markdown",
   "id": "51ded3dd",
   "metadata": {},
   "source": [
    "Esta opción con el tiempo probablemente fue descontinuada por falta de interés de los usuarios."
   ]
  },
  {
   "cell_type": "code",
   "execution_count": 29,
   "id": "133b5262",
   "metadata": {
    "scrolled": true
   },
   "outputs": [
    {
     "data": {
      "image/png": "[encoded data removed]",
      "text/plain": [
       "<Figure size 1584x432 with 1 Axes>"
      ]
     },
     "metadata": {
      "needs_background": "light"
     },
     "output_type": "display_data"
    }
   ],
   "source": [
    "ride_data_Testing = ride_data.loc[ride_data['passholder_type'] == 'Testing']\n",
    "plt_date = mdates.date2num(ride_data_Testing['start_time'])\n",
    "fig, ax = plt.subplots(1, figsize=(22,6))\n",
    "n, bins, patches = plt.hist(plt_date, bins=100)\n",
    "ax.xaxis.set_major_locator(mdates.YearLocator())\n",
    "ax.xaxis.set_major_formatter(mdates.DateFormatter('%y'))\n",
    "plt.xlim(mdates.datestr2num(['2016/09/01','2022/03/01']))\n",
    "plt.show()"
   ]
  },
  {
   "cell_type": "markdown",
   "id": "e7d9d4ca",
   "metadata": {},
   "source": [
    "Ahora exploremos como es el comportamiento en un día de servicio."
   ]
  },
  {
   "cell_type": "code",
   "execution_count": 30,
   "id": "3252cc5e",
   "metadata": {},
   "outputs": [],
   "source": [
    "start_dates = ride_data['start_time'].copy()"
   ]
  },
  {
   "cell_type": "markdown",
   "id": "a1a074e2",
   "metadata": {},
   "source": [
    "De los datos extraemos solo las horas y minutos y las guardamos en un nuevo data frame"
   ]
  },
  {
   "cell_type": "code",
   "execution_count": 31,
   "id": "1ba22599",
   "metadata": {},
   "outputs": [],
   "source": [
    "start_times = []\n",
    "for dates in start_dates:\n",
    "    time = dates.time()\n",
    "    time_flt = time.hour+time.minute/60.0\n",
    "    start_times.append([time_flt])\n",
    "    \n",
    "start_time = pd.DataFrame(start_times, columns=[\"start_time\"])"
   ]
  },
  {
   "cell_type": "markdown",
   "id": "dc71a67a",
   "metadata": {},
   "source": [
    "Veamos como se distribuyen"
   ]
  },
  {
   "cell_type": "code",
   "execution_count": 33,
   "id": "4bc5e953",
   "metadata": {
    "scrolled": true
   },
   "outputs": [
    {
     "data": {
      "text/plain": [
       "array([[<AxesSubplot:title={'center':'start_time'}>]], dtype=object)"
      ]
     },
     "execution_count": 33,
     "metadata": {},
     "output_type": "execute_result"
    },
    {
     "data": {
      "image/png": "[encoded data removed]",
      "text/plain": [
       "<Figure size 1584x432 with 1 Axes>"
      ]
     },
     "metadata": {
      "needs_background": "light"
     },
     "output_type": "display_data"
    }
   ],
   "source": [
    "start_time.hist(bins=100, figsize=(22,6))"
   ]
  },
  {
   "cell_type": "markdown",
   "id": "c31148b4",
   "metadata": {},
   "source": [
    "De estos datos se ve que el pico de uso está hacia la tarde.\n",
    "Veamos como cambia este comportamiento según el tipo de usuario."
   ]
  },
  {
   "cell_type": "code",
   "execution_count": 35,
   "id": "7fc70d96",
   "metadata": {},
   "outputs": [
    {
     "data": {
      "text/plain": [
       "array([[<AxesSubplot:title={'center':'start_time'}>]], dtype=object)"
      ]
     },
     "execution_count": 35,
     "metadata": {},
     "output_type": "execute_result"
    },
    {
     "data": {
      "image/png": "[encoded data removed]",
      "text/plain": [
       "<Figure size 1584x432 with 1 Axes>"
      ]
     },
     "metadata": {
      "needs_background": "light"
     },
     "output_type": "display_data"
    }
   ],
   "source": [
    "start_dates_Monthly = ride_data_Monthly['start_time'].copy()\n",
    "start_times = []\n",
    "for dates in start_dates_Monthly:\n",
    "    time = dates.time()\n",
    "    time_flt = time.hour+time.minute/60.0\n",
    "    start_times.append([time_flt])\n",
    "    \n",
    "start_time_Monthly = pd.DataFrame(start_times, columns=[\"start_time\"])\n",
    "start_time_Monthly.hist(bins=50, figsize=(22,6))"
   ]
  },
  {
   "cell_type": "code",
   "execution_count": 36,
   "id": "ca4e0977",
   "metadata": {
    "scrolled": true
   },
   "outputs": [
    {
     "data": {
      "text/plain": [
       "array([[<AxesSubplot:title={'center':'start_time'}>]], dtype=object)"
      ]
     },
     "execution_count": 36,
     "metadata": {},
     "output_type": "execute_result"
    },
    {
     "data": {
      "image/png": "[encoded data removed]",
      "text/plain": [
       "<Figure size 1584x432 with 1 Axes>"
      ]
     },
     "metadata": {
      "needs_background": "light"
     },
     "output_type": "display_data"
    }
   ],
   "source": [
    "start_dates_Walk = ride_data_Walk['start_time'].copy()\n",
    "start_times = []\n",
    "for dates in start_dates_Walk:\n",
    "    time = dates.time()\n",
    "    time_flt = time.hour+time.minute/60.0\n",
    "    start_times.append([time_flt])\n",
    "    \n",
    "start_time_Walk = pd.DataFrame(start_times, columns=[\"start_time\"])\n",
    "start_time_Walk.hist(bins=100, figsize=(22,6))"
   ]
  },
  {
   "cell_type": "code",
   "execution_count": 37,
   "id": "c9cc5601",
   "metadata": {},
   "outputs": [
    {
     "data": {
      "text/plain": [
       "array([[<AxesSubplot:title={'center':'start_time'}>]], dtype=object)"
      ]
     },
     "execution_count": 37,
     "metadata": {},
     "output_type": "execute_result"
    },
    {
     "data": {
      "image/png": "[encoded data removed]",
      "text/plain": [
       "<Figure size 1584x432 with 1 Axes>"
      ]
     },
     "metadata": {
      "needs_background": "light"
     },
     "output_type": "display_data"
    }
   ],
   "source": [
    "start_dates_One_Day = ride_data_One_Day['start_time'].copy()\n",
    "start_times = []\n",
    "for dates in start_dates_One_Day:\n",
    "    time = dates.time()\n",
    "    time_flt = time.hour+time.minute/60.0\n",
    "    start_times.append([time_flt])\n",
    "    \n",
    "start_time_One_Day = pd.DataFrame(start_times, columns=[\"start_time\"])\n",
    "start_time_One_Day.hist(bins=100, figsize=(22,6))"
   ]
  },
  {
   "cell_type": "code",
   "execution_count": 38,
   "id": "47d77681",
   "metadata": {},
   "outputs": [
    {
     "data": {
      "text/plain": [
       "array([[<AxesSubplot:title={'center':'start_time'}>]], dtype=object)"
      ]
     },
     "execution_count": 38,
     "metadata": {},
     "output_type": "execute_result"
    },
    {
     "data": {
      "image/png": "[encoded data removed]",
      "text/plain": [
       "<Figure size 1584x432 with 1 Axes>"
      ]
     },
     "metadata": {
      "needs_background": "light"
     },
     "output_type": "display_data"
    }
   ],
   "source": [
    "start_dates_Annual = ride_data_Annual['start_time'].copy()\n",
    "start_times = []\n",
    "for dates in start_dates_Annual:\n",
    "    time = dates.time()\n",
    "    time_flt = time.hour+time.minute/60.0\n",
    "    start_times.append([time_flt])\n",
    "    \n",
    "start_time_Annual = pd.DataFrame(start_times, columns=[\"start_time\"])\n",
    "start_time_Annual.hist(bins=100, figsize=(22,6))"
   ]
  },
  {
   "cell_type": "code",
   "execution_count": 39,
   "id": "df139fbf",
   "metadata": {},
   "outputs": [
    {
     "data": {
      "text/plain": [
       "array([[<AxesSubplot:title={'center':'start_time'}>]], dtype=object)"
      ]
     },
     "execution_count": 39,
     "metadata": {},
     "output_type": "execute_result"
    },
    {
     "data": {
      "image/png": "[encoded data removed]",
      "text/plain": [
       "<Figure size 1584x432 with 1 Axes>"
      ]
     },
     "metadata": {
      "needs_background": "light"
     },
     "output_type": "display_data"
    }
   ],
   "source": [
    "start_dates_Flex = ride_data_Flex['start_time'].copy()\n",
    "start_times = []\n",
    "for dates in start_dates_Flex:\n",
    "    time = dates.time()\n",
    "    time_flt = time.hour+time.minute/60.0\n",
    "    start_times.append([time_flt])\n",
    "    \n",
    "start_time_Flex = pd.DataFrame(start_times, columns=[\"start_time\"])\n",
    "start_time_Flex.hist(bins=100, figsize=(22,6))"
   ]
  },
  {
   "cell_type": "code",
   "execution_count": null,
   "id": "e44cc14d",
   "metadata": {},
   "outputs": [],
   "source": []
  }
 ],
 "metadata": {
  "kernelspec": {
   "display_name": "Python 3",
   "language": "python",
   "name": "python3"
  },
  "language_info": {
   "codemirror_mode": {
    "name": "ipython",
    "version": 3
   },
   "file_extension": ".py",
   "mimetype": "text/x-python",
   "name": "python",
   "nbconvert_exporter": "python",
   "pygments_lexer": "ipython3",
   "version": "3.6.12"
  }
 },
 "nbformat": 4,
 "nbformat_minor": 5
}
